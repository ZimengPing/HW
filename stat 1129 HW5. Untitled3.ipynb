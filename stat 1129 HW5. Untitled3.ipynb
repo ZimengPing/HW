{
 "cells": [
  {
   "cell_type": "code",
   "execution_count": 1,
   "metadata": {},
   "outputs": [
    {
     "name": "stdout",
     "output_type": "stream",
     "text": [
      "5:30\n"
     ]
    }
   ],
   "source": [
    "class Clock():\n",
    "  def __init__(self, time):\n",
    "    self.time = time\n",
    "  def print_time(self):\n",
    "    time = '6:30'\n",
    "    print(self.time)\n",
    "\n",
    "clock = Clock('5:30')\n",
    "clock.print_time()"
   ]
  },
  {
   "cell_type": "code",
   "execution_count": 2,
   "metadata": {},
   "outputs": [
    {
     "name": "stdout",
     "output_type": "stream",
     "text": [
      "10:30\n"
     ]
    }
   ],
   "source": [
    "class Clock():\n",
    "  def __init__(self, time):\n",
    "    self.time = time\n",
    "  def print_time(self, time):\n",
    "    print(time)\n",
    "\n",
    "clock = Clock('5:30')\n",
    "clock.print_time('10:30')"
   ]
  },
  {
   "cell_type": "code",
   "execution_count": 3,
   "metadata": {},
   "outputs": [
    {
     "name": "stdout",
     "output_type": "stream",
     "text": [
      "5:30\n",
      "10:30\n"
     ]
    }
   ],
   "source": [
    "class Clock():\n",
    "  def __init__(self, time):\n",
    "    self.time = time\n",
    "  def print_time(self):\n",
    "    print(self.time)\n",
    "    \n",
    "class Clock1(Clock):\n",
    "    pass\n",
    "\n",
    "boston_clock = Clock('5:30')\n",
    "paris_clock = Clock('10:30')\n",
    "\n",
    "boston_clock.print_time()\n",
    "paris_clock.print_time()"
   ]
  },
  {
   "cell_type": "code",
   "execution_count": 40,
   "metadata": {},
   "outputs": [
    {
     "name": "stdout",
     "output_type": "stream",
     "text": [
      "\n",
      "5 6 7 \n",
      "list:  5 6 7 \n",
      "5 \n",
      "list:  6 7 \n",
      "6 7 \n",
      "Queue_is_empty\n"
     ]
    }
   ],
   "source": [
    "class Queue:\n",
    "    def __init__(self):\n",
    "        print()\n",
    "        self.element = []\n",
    "        \n",
    "    def insert(self,num):\n",
    "        self.element.append(num)\n",
    "        print(num,end=\" \")\n",
    "        \n",
    "    def is_empty(self):\n",
    "        if len(self.element)==0:\n",
    "            return True\n",
    "        else:\n",
    "            return False\n",
    "        \n",
    "    def remove(self):\n",
    "        if self.is_empty()==True:\n",
    "            print(\"Queue_is_empty\")\n",
    "            return\n",
    "        else:\n",
    "            num = self.element[0]\n",
    "            print(num,end=\" \")\n",
    "            self.element.pop(0)\n",
    "            \n",
    "    def length(self):\n",
    "        return len(self.element)\n",
    "    \n",
    "    def result(self):\n",
    "        if self.is_empty()==True:\n",
    "            print(\"Queue_is_empty\")\n",
    "            return\n",
    "        else:\n",
    "            print(\"list: \",end=\" \")\n",
    "            for i in range(0,self.length()):\n",
    "                print(self.element[i],end=\" \")\n",
    "            print(\"\")\n",
    "            \n",
    "            \n",
    "def main():\n",
    "    queue = Queue()\n",
    "    \n",
    "  \n",
    " \n",
    "    queue.insert(5)\n",
    "    queue.insert(6)\n",
    "    queue.insert(7)\n",
    "    print()\n",
    "    queue.result()\n",
    "\n",
    "    queue.remove()\n",
    "    print()\n",
    "    queue.result()\n",
    "    queue.remove()\n",
    "    queue.remove()\n",
    "    print()\n",
    "    queue.result()\n",
    "\n",
    "   \n",
    "if __name__ == \"__main__\":\n",
    "    main()\n",
    "\n"
   ]
  },
  {
   "cell_type": "code",
   "execution_count": null,
   "metadata": {},
   "outputs": [],
   "source": []
  },
  {
   "cell_type": "code",
   "execution_count": null,
   "metadata": {},
   "outputs": [],
   "source": []
  }
 ],
 "metadata": {
  "kernelspec": {
   "display_name": "Python 3",
   "language": "python",
   "name": "python3"
  },
  "language_info": {
   "codemirror_mode": {
    "name": "ipython",
    "version": 3
   },
   "file_extension": ".py",
   "mimetype": "text/x-python",
   "name": "python",
   "nbconvert_exporter": "python",
   "pygments_lexer": "ipython3",
   "version": "3.8.5"
  }
 },
 "nbformat": 4,
 "nbformat_minor": 4
}
